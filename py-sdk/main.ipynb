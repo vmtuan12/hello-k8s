{
 "cells": [
  {
   "cell_type": "code",
   "execution_count": null,
   "id": "1f2d1753",
   "metadata": {},
   "outputs": [],
   "source": [
    "from kubernetes import client, config\n",
    "\n",
    "# Configs can be set in Configuration class directly or using helper utility\n",
    "config.load_kube_config(\n",
    "    context='data-lab'\n",
    ")\n",
    "\n",
    "v1 = client.CoreV1Api()\n",
    "print(\"Listing pods with their IPs:\")\n",
    "ret = v1.list_pod_for_all_namespaces(watch=False)\n",
    "for i in ret.items:\n",
    "    print(\"%s\\t%s\\t%s\" % (i.status.pod_ip, i.metadata.namespace, i.metadata.name))"
   ]
  },
  {
   "cell_type": "code",
   "execution_count": null,
   "id": "d81c4666",
   "metadata": {},
   "outputs": [],
   "source": [
    "from kubernetes import client, config, watch\n",
    "\n",
    "# Configs can be set in Configuration class directly or using helper utility\n",
    "config.load_kube_config()\n",
    "\n",
    "v1 = client.CoreV1Api()\n",
    "count = 10\n",
    "w = watch.Watch()\n",
    "for event in w.stream(v1.list_namespace, _request_timeout=60):\n",
    "    print(\"Event: %s %s\" % (event['type'], event['object'].metadata.name))\n",
    "    count -= 1\n",
    "    if not count:\n",
    "        w.stop()\n",
    "\n",
    "print(\"Ended.\")"
   ]
  }
 ],
 "metadata": {
  "kernelspec": {
   "display_name": "env-k8s",
   "language": "python",
   "name": "python3"
  },
  "language_info": {
   "codemirror_mode": {
    "name": "ipython",
    "version": 3
   },
   "file_extension": ".py",
   "mimetype": "text/x-python",
   "name": "python",
   "nbconvert_exporter": "python",
   "pygments_lexer": "ipython3",
   "version": "3.11.13"
  }
 },
 "nbformat": 4,
 "nbformat_minor": 5
}
